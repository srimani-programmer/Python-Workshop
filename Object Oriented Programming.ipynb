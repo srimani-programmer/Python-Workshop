{
 "cells": [
  {
   "cell_type": "code",
   "execution_count": 13,
   "metadata": {},
   "outputs": [
    {
     "data": {
      "text/plain": [
       "int"
      ]
     },
     "execution_count": 13,
     "metadata": {},
     "output_type": "execute_result"
    }
   ],
   "source": [
    "# Declaring a Variable\n",
    "myAge = 15\n",
    "type(myAge)"
   ]
  },
  {
   "cell_type": "code",
   "execution_count": 14,
   "metadata": {},
   "outputs": [
    {
     "data": {
      "text/plain": [
       "4"
      ]
     },
     "execution_count": 14,
     "metadata": {},
     "output_type": "execute_result"
    }
   ],
   "source": [
    "# bit_length() is used to determine the no of bits in binary format.\n",
    "myAge.bit_length()"
   ]
  },
  {
   "cell_type": "code",
   "execution_count": 21,
   "metadata": {},
   "outputs": [
    {
     "data": {
      "text/plain": [
       "\"int([x]) -> integer\\nint(x, base=10) -> integer\\n\\nConvert a number or string to an integer, or return 0 if no arguments\\nare given.  If x is a number, return x.__int__().  For floating point\\nnumbers, this truncates towards zero.\\n\\nIf x is not a number or if base is given, then x must be a string,\\nbytes, or bytearray instance representing an integer literal in the\\ngiven base.  The literal can be preceded by '+' or '-' and be surrounded\\nby whitespace.  The base defaults to 10.  Valid bases are 0 and 2-36.\\nBase 0 means to interpret the base from the string as an integer literal.\\n>>> int('0b100', base=0)\\n4\""
      ]
     },
     "execution_count": 21,
     "metadata": {},
     "output_type": "execute_result"
    }
   ],
   "source": [
    "myAge.__doc__"
   ]
  },
  {
   "cell_type": "code",
   "execution_count": 22,
   "metadata": {},
   "outputs": [
    {
     "data": {
      "text/plain": [
       "['__repr__',\n",
       " '__hash__',\n",
       " '__str__',\n",
       " '__getattribute__',\n",
       " '__lt__',\n",
       " '__le__',\n",
       " '__eq__',\n",
       " '__ne__',\n",
       " '__gt__',\n",
       " '__ge__',\n",
       " '__add__',\n",
       " '__radd__',\n",
       " '__sub__',\n",
       " '__rsub__',\n",
       " '__mul__',\n",
       " '__rmul__',\n",
       " '__mod__',\n",
       " '__rmod__',\n",
       " '__divmod__',\n",
       " '__rdivmod__',\n",
       " '__pow__',\n",
       " '__rpow__',\n",
       " '__neg__',\n",
       " '__pos__',\n",
       " '__abs__',\n",
       " '__bool__',\n",
       " '__invert__',\n",
       " '__lshift__',\n",
       " '__rlshift__',\n",
       " '__rshift__',\n",
       " '__rrshift__',\n",
       " '__and__',\n",
       " '__rand__',\n",
       " '__xor__',\n",
       " '__rxor__',\n",
       " '__or__',\n",
       " '__ror__',\n",
       " '__int__',\n",
       " '__float__',\n",
       " '__floordiv__',\n",
       " '__rfloordiv__',\n",
       " '__truediv__',\n",
       " '__rtruediv__',\n",
       " '__index__',\n",
       " '__new__',\n",
       " 'conjugate',\n",
       " 'bit_length',\n",
       " 'to_bytes',\n",
       " 'from_bytes',\n",
       " '__trunc__',\n",
       " '__floor__',\n",
       " '__ceil__',\n",
       " '__round__',\n",
       " '__getnewargs__',\n",
       " '__format__',\n",
       " '__sizeof__',\n",
       " 'real',\n",
       " 'imag',\n",
       " 'numerator',\n",
       " 'denominator',\n",
       " '__doc__',\n",
       " '__setattr__',\n",
       " '__delattr__',\n",
       " '__init__',\n",
       " '__reduce_ex__',\n",
       " '__reduce__',\n",
       " '__subclasshook__',\n",
       " '__init_subclass__',\n",
       " '__dir__',\n",
       " '__class__']"
      ]
     },
     "execution_count": 22,
     "metadata": {},
     "output_type": "execute_result"
    }
   ],
   "source": [
    "myAge.__dir__()"
   ]
  },
  {
   "cell_type": "code",
   "execution_count": 23,
   "metadata": {},
   "outputs": [],
   "source": [
    "myName = \"Sri Manikanta\""
   ]
  },
  {
   "cell_type": "code",
   "execution_count": 24,
   "metadata": {},
   "outputs": [
    {
     "data": {
      "text/plain": [
       "\"str(object='') -> str\\nstr(bytes_or_buffer[, encoding[, errors]]) -> str\\n\\nCreate a new string object from the given object. If encoding or\\nerrors is specified, then the object must expose a data buffer\\nthat will be decoded using the given encoding and error handler.\\nOtherwise, returns the result of object.__str__() (if defined)\\nor repr(object).\\nencoding defaults to sys.getdefaultencoding().\\nerrors defaults to 'strict'.\""
      ]
     },
     "execution_count": 24,
     "metadata": {},
     "output_type": "execute_result"
    }
   ],
   "source": [
    "myName.__doc__"
   ]
  },
  {
   "cell_type": "code",
   "execution_count": 25,
   "metadata": {},
   "outputs": [
    {
     "data": {
      "text/plain": [
       "['__repr__',\n",
       " '__hash__',\n",
       " '__str__',\n",
       " '__getattribute__',\n",
       " '__lt__',\n",
       " '__le__',\n",
       " '__eq__',\n",
       " '__ne__',\n",
       " '__gt__',\n",
       " '__ge__',\n",
       " '__iter__',\n",
       " '__mod__',\n",
       " '__rmod__',\n",
       " '__len__',\n",
       " '__getitem__',\n",
       " '__add__',\n",
       " '__mul__',\n",
       " '__rmul__',\n",
       " '__contains__',\n",
       " '__new__',\n",
       " 'encode',\n",
       " 'replace',\n",
       " 'split',\n",
       " 'rsplit',\n",
       " 'join',\n",
       " 'capitalize',\n",
       " 'casefold',\n",
       " 'title',\n",
       " 'center',\n",
       " 'count',\n",
       " 'expandtabs',\n",
       " 'find',\n",
       " 'partition',\n",
       " 'index',\n",
       " 'ljust',\n",
       " 'lower',\n",
       " 'lstrip',\n",
       " 'rfind',\n",
       " 'rindex',\n",
       " 'rjust',\n",
       " 'rstrip',\n",
       " 'rpartition',\n",
       " 'splitlines',\n",
       " 'strip',\n",
       " 'swapcase',\n",
       " 'translate',\n",
       " 'upper',\n",
       " 'startswith',\n",
       " 'endswith',\n",
       " 'isascii',\n",
       " 'islower',\n",
       " 'isupper',\n",
       " 'istitle',\n",
       " 'isspace',\n",
       " 'isdecimal',\n",
       " 'isdigit',\n",
       " 'isnumeric',\n",
       " 'isalpha',\n",
       " 'isalnum',\n",
       " 'isidentifier',\n",
       " 'isprintable',\n",
       " 'zfill',\n",
       " 'format',\n",
       " 'format_map',\n",
       " '__format__',\n",
       " 'maketrans',\n",
       " '__sizeof__',\n",
       " '__getnewargs__',\n",
       " '__doc__',\n",
       " '__setattr__',\n",
       " '__delattr__',\n",
       " '__init__',\n",
       " '__reduce_ex__',\n",
       " '__reduce__',\n",
       " '__subclasshook__',\n",
       " '__init_subclass__',\n",
       " '__dir__',\n",
       " '__class__']"
      ]
     },
     "execution_count": 25,
     "metadata": {},
     "output_type": "execute_result"
    }
   ],
   "source": [
    "myName.__dir__()"
   ]
  },
  {
   "cell_type": "markdown",
   "metadata": {},
   "source": [
    "##### Creating Classes and Objects"
   ]
  },
  {
   "cell_type": "code",
   "execution_count": 26,
   "metadata": {},
   "outputs": [],
   "source": [
    "class Indian():\n",
    "    is_human = True\n",
    "    is_interested_in_sports = True"
   ]
  },
  {
   "cell_type": "code",
   "execution_count": 27,
   "metadata": {},
   "outputs": [],
   "source": [
    "Sri_Manikanta = Indian()"
   ]
  },
  {
   "cell_type": "code",
   "execution_count": 28,
   "metadata": {},
   "outputs": [
    {
     "data": {
      "text/plain": [
       "True"
      ]
     },
     "execution_count": 28,
     "metadata": {},
     "output_type": "execute_result"
    }
   ],
   "source": [
    "Sri_Manikanta.is_human"
   ]
  },
  {
   "cell_type": "code",
   "execution_count": 29,
   "metadata": {},
   "outputs": [
    {
     "data": {
      "text/plain": [
       "True"
      ]
     },
     "execution_count": 29,
     "metadata": {},
     "output_type": "execute_result"
    }
   ],
   "source": [
    "Sri_Manikanta.is_interested_in_sports"
   ]
  },
  {
   "cell_type": "code",
   "execution_count": 30,
   "metadata": {},
   "outputs": [],
   "source": [
    "Santhosh = Indian()"
   ]
  },
  {
   "cell_type": "code",
   "execution_count": 31,
   "metadata": {},
   "outputs": [
    {
     "data": {
      "text/plain": [
       "True"
      ]
     },
     "execution_count": 31,
     "metadata": {},
     "output_type": "execute_result"
    }
   ],
   "source": [
    "Santhosh.is_human"
   ]
  },
  {
   "cell_type": "code",
   "execution_count": 32,
   "metadata": {},
   "outputs": [
    {
     "data": {
      "text/plain": [
       "True"
      ]
     },
     "execution_count": 32,
     "metadata": {},
     "output_type": "execute_result"
    }
   ],
   "source": [
    "Santhosh.is_interested_in_sports"
   ]
  },
  {
   "cell_type": "code",
   "execution_count": 44,
   "metadata": {},
   "outputs": [],
   "source": [
    "class Pet():\n",
    "    '''A Pet class that contains the Data regarding the Pets Names and its owners\n",
    "    '''\n",
    "    pet_name = \"Timmy\"\n",
    "    owner_name = \"John\"\n",
    "    is_human = False\n",
    "    pet_age = 14\n",
    "    owner_age = 29"
   ]
  },
  {
   "cell_type": "code",
   "execution_count": 45,
   "metadata": {},
   "outputs": [],
   "source": [
    "Lion = Pet()"
   ]
  },
  {
   "cell_type": "code",
   "execution_count": 46,
   "metadata": {},
   "outputs": [
    {
     "data": {
      "text/plain": [
       "'John'"
      ]
     },
     "execution_count": 46,
     "metadata": {},
     "output_type": "execute_result"
    }
   ],
   "source": [
    "Lion.owner_name"
   ]
  },
  {
   "cell_type": "code",
   "execution_count": 47,
   "metadata": {},
   "outputs": [
    {
     "data": {
      "text/plain": [
       "'Timmy'"
      ]
     },
     "execution_count": 47,
     "metadata": {},
     "output_type": "execute_result"
    }
   ],
   "source": [
    "Lion.pet_name"
   ]
  },
  {
   "cell_type": "code",
   "execution_count": 48,
   "metadata": {},
   "outputs": [
    {
     "data": {
      "text/plain": [
       "'A Pet class that contains the Data regarding the Pets Names and its owners\\n    '"
      ]
     },
     "execution_count": 48,
     "metadata": {},
     "output_type": "execute_result"
    }
   ],
   "source": [
    "Lion.__doc__"
   ]
  },
  {
   "cell_type": "code",
   "execution_count": 49,
   "metadata": {},
   "outputs": [
    {
     "data": {
      "text/plain": [
       "['__module__',\n",
       " '__doc__',\n",
       " 'pet_name',\n",
       " 'owner_name',\n",
       " 'is_human',\n",
       " 'pet_age',\n",
       " 'owner_age',\n",
       " '__dict__',\n",
       " '__weakref__',\n",
       " '__repr__',\n",
       " '__hash__',\n",
       " '__str__',\n",
       " '__getattribute__',\n",
       " '__setattr__',\n",
       " '__delattr__',\n",
       " '__lt__',\n",
       " '__le__',\n",
       " '__eq__',\n",
       " '__ne__',\n",
       " '__gt__',\n",
       " '__ge__',\n",
       " '__init__',\n",
       " '__new__',\n",
       " '__reduce_ex__',\n",
       " '__reduce__',\n",
       " '__subclasshook__',\n",
       " '__init_subclass__',\n",
       " '__format__',\n",
       " '__sizeof__',\n",
       " '__dir__',\n",
       " '__class__']"
      ]
     },
     "execution_count": 49,
     "metadata": {},
     "output_type": "execute_result"
    }
   ],
   "source": [
    "Lion.__dir__()"
   ]
  },
  {
   "cell_type": "code",
   "execution_count": 1,
   "metadata": {},
   "outputs": [],
   "source": [
    "class Pet():\n",
    "    def __init__(self,name,height):\n",
    "        self.pet_name = name\n",
    "        self.pet_height = height\n",
    "        self.ower_name = \"Sri Manikanta\""
   ]
  },
  {
   "cell_type": "code",
   "execution_count": 2,
   "metadata": {},
   "outputs": [],
   "source": [
    "p1 = Pet(\"Leo\", \"7.2Ft\")"
   ]
  },
  {
   "cell_type": "code",
   "execution_count": 3,
   "metadata": {},
   "outputs": [
    {
     "data": {
      "text/plain": [
       "'Sri Manikanta'"
      ]
     },
     "execution_count": 3,
     "metadata": {},
     "output_type": "execute_result"
    }
   ],
   "source": [
    "p1.ower_name"
   ]
  },
  {
   "cell_type": "code",
   "execution_count": 4,
   "metadata": {},
   "outputs": [
    {
     "data": {
      "text/plain": [
       "'7.2Ft'"
      ]
     },
     "execution_count": 4,
     "metadata": {},
     "output_type": "execute_result"
    }
   ],
   "source": [
    "p1.pet_height"
   ]
  },
  {
   "cell_type": "code",
   "execution_count": 5,
   "metadata": {},
   "outputs": [
    {
     "data": {
      "text/plain": [
       "'Leo'"
      ]
     },
     "execution_count": 5,
     "metadata": {},
     "output_type": "execute_result"
    }
   ],
   "source": [
    "p1.pet_name"
   ]
  },
  {
   "cell_type": "code",
   "execution_count": 6,
   "metadata": {},
   "outputs": [],
   "source": [
    "# Creating a Circle Class\n",
    "class Circle():\n",
    "    is_shape = True    \n",
    "    def __init__(self, radius, color):\n",
    "        self.radius = radius\n",
    "        self.color = color"
   ]
  },
  {
   "cell_type": "code",
   "execution_count": 7,
   "metadata": {},
   "outputs": [],
   "source": [
    "first_circle = Circle(2, 'blue')\n",
    "second_circle = Circle(3, 'red')"
   ]
  },
  {
   "cell_type": "code",
   "execution_count": 8,
   "metadata": {},
   "outputs": [
    {
     "data": {
      "text/plain": [
       "2"
      ]
     },
     "execution_count": 8,
     "metadata": {},
     "output_type": "execute_result"
    }
   ],
   "source": [
    "first_circle.radius"
   ]
  },
  {
   "cell_type": "code",
   "execution_count": 9,
   "metadata": {},
   "outputs": [
    {
     "data": {
      "text/plain": [
       "'blue'"
      ]
     },
     "execution_count": 9,
     "metadata": {},
     "output_type": "execute_result"
    }
   ],
   "source": [
    "first_circle.color"
   ]
  },
  {
   "cell_type": "code",
   "execution_count": 10,
   "metadata": {},
   "outputs": [
    {
     "data": {
      "text/plain": [
       "True"
      ]
     },
     "execution_count": 10,
     "metadata": {},
     "output_type": "execute_result"
    }
   ],
   "source": [
    "first_circle.is_shape"
   ]
  },
  {
   "cell_type": "markdown",
   "metadata": {},
   "source": [
    "##### Keyword Arguments"
   ]
  },
  {
   "cell_type": "code",
   "execution_count": 11,
   "metadata": {},
   "outputs": [],
   "source": [
    "class Circle():\n",
    "    is_shape = True\n",
    "    def __init__(self, radius, color='red'):\n",
    "        self.radius = radius\n",
    "        self.color = color"
   ]
  },
  {
   "cell_type": "code",
   "execution_count": 12,
   "metadata": {},
   "outputs": [],
   "source": [
    "c1 = Circle(2.5,'blue')"
   ]
  },
  {
   "cell_type": "code",
   "execution_count": 14,
   "metadata": {},
   "outputs": [
    {
     "name": "stdout",
     "output_type": "stream",
     "text": [
      "blue\n",
      "2.5\n"
     ]
    }
   ],
   "source": [
    "print(c1.color)\n",
    "print(c1.radius)"
   ]
  },
  {
   "cell_type": "code",
   "execution_count": 15,
   "metadata": {},
   "outputs": [],
   "source": [
    "c2 = Circle(45.7)"
   ]
  },
  {
   "cell_type": "code",
   "execution_count": 16,
   "metadata": {},
   "outputs": [
    {
     "data": {
      "text/plain": [
       "'red'"
      ]
     },
     "execution_count": 16,
     "metadata": {},
     "output_type": "execute_result"
    }
   ],
   "source": [
    "c2.color"
   ]
  },
  {
   "cell_type": "code",
   "execution_count": 17,
   "metadata": {},
   "outputs": [
    {
     "data": {
      "text/plain": [
       "45.7"
      ]
     },
     "execution_count": 17,
     "metadata": {},
     "output_type": "execute_result"
    }
   ],
   "source": [
    "c2.radius"
   ]
  },
  {
   "cell_type": "code",
   "execution_count": 9,
   "metadata": {},
   "outputs": [],
   "source": [
    "class Country():\n",
    "    def __init__(self, name='Unspecified', population=None, size_kmsq=None):\n",
    "        self.name = name\n",
    "        self.population = population\n",
    "        self.size_kmsq = size_kmsq"
   ]
  },
  {
   "cell_type": "code",
   "execution_count": 10,
   "metadata": {},
   "outputs": [],
   "source": [
    "usa = Country(name='United States of America', size_kmsq=9.8e6)"
   ]
  },
  {
   "cell_type": "code",
   "execution_count": 11,
   "metadata": {},
   "outputs": [
    {
     "data": {
      "text/plain": [
       "{'name': 'United States of America',\n",
       " 'population': None,\n",
       " 'size_kmsq': 9800000.0}"
      ]
     },
     "execution_count": 11,
     "metadata": {},
     "output_type": "execute_result"
    }
   ],
   "source": [
    "usa.__dict__"
   ]
  },
  {
   "cell_type": "markdown",
   "metadata": {},
   "source": [
    "##### Methods in OOPS - Instance, Static, Class Methods"
   ]
  },
  {
   "cell_type": "code",
   "execution_count": 17,
   "metadata": {},
   "outputs": [],
   "source": [
    "# Instance Method Example\n",
    "import math\n",
    "class Circle():\n",
    "    is_shape = True\n",
    "    def __init__(self, radius, color='red'):\n",
    "        self.radius = radius\n",
    "        self.color = color\n",
    "    # Instance Method - Which requires an object to work with this method\n",
    "    def area(self):\n",
    "        return math.pi * self.radius ** 2"
   ]
  },
  {
   "cell_type": "code",
   "execution_count": 18,
   "metadata": {},
   "outputs": [],
   "source": [
    "c1 = Circle(15)"
   ]
  },
  {
   "cell_type": "code",
   "execution_count": 19,
   "metadata": {},
   "outputs": [
    {
     "data": {
      "text/plain": [
       "706.8583470577034"
      ]
     },
     "execution_count": 19,
     "metadata": {},
     "output_type": "execute_result"
    }
   ],
   "source": [
    "c1.area()"
   ]
  },
  {
   "cell_type": "code",
   "execution_count": 20,
   "metadata": {},
   "outputs": [],
   "source": [
    "# Instance Method Example\n",
    "class Pet():\n",
    "    def __init__(self, height):\n",
    "        self.height = height       \n",
    "    is_human = False\n",
    "    owner = 'Michael Smith'     \n",
    "    def is_tall(self):\n",
    "        return self.height >= 50"
   ]
  },
  {
   "cell_type": "code",
   "execution_count": 21,
   "metadata": {},
   "outputs": [
    {
     "data": {
      "text/plain": [
       "False"
      ]
     },
     "execution_count": 21,
     "metadata": {},
     "output_type": "execute_result"
    }
   ],
   "source": [
    "bowser = Pet(40)\n",
    "bowser.is_tall()"
   ]
  },
  {
   "cell_type": "code",
   "execution_count": 22,
   "metadata": {},
   "outputs": [
    {
     "data": {
      "text/plain": [
       "True"
      ]
     },
     "execution_count": 22,
     "metadata": {},
     "output_type": "execute_result"
    }
   ],
   "source": [
    "bowser.height = 60\n",
    "bowser.is_tall()"
   ]
  },
  {
   "cell_type": "code",
   "execution_count": 24,
   "metadata": {},
   "outputs": [],
   "source": [
    "class Pet():\n",
    "    def __init__(self, height):\n",
    "        self.height = height\n",
    "    is_human = False\n",
    "    owner = 'Michael Smith'\n",
    "    def is_tall(self, tall_if_at_least):\n",
    "        return self.height >= tall_if_at_least"
   ]
  },
  {
   "cell_type": "code",
   "execution_count": 25,
   "metadata": {},
   "outputs": [
    {
     "data": {
      "text/plain": [
       "True"
      ]
     },
     "execution_count": 25,
     "metadata": {},
     "output_type": "execute_result"
    }
   ],
   "source": [
    "bowser = Pet(40)\n",
    "bowser.is_tall(30)"
   ]
  },
  {
   "cell_type": "code",
   "execution_count": 34,
   "metadata": {},
   "outputs": [],
   "source": [
    "class Pet():\n",
    "    def __init__(self, height, name):\n",
    "        self.height = height\n",
    "        self.name = name\n",
    "    \n",
    "    def __str__(self):\n",
    "        return '{} height is : {}'.format(self.name, self.height)"
   ]
  },
  {
   "cell_type": "code",
   "execution_count": 35,
   "metadata": {},
   "outputs": [],
   "source": [
    "myPet = Pet(50,\"Leo\")"
   ]
  },
  {
   "cell_type": "code",
   "execution_count": 36,
   "metadata": {},
   "outputs": [
    {
     "data": {
      "text/plain": [
       "<__main__.Pet at 0x104ca4898>"
      ]
     },
     "execution_count": 36,
     "metadata": {},
     "output_type": "execute_result"
    }
   ],
   "source": [
    "myPet"
   ]
  },
  {
   "cell_type": "code",
   "execution_count": 38,
   "metadata": {},
   "outputs": [
    {
     "name": "stdout",
     "output_type": "stream",
     "text": [
      "Leo height is : 50\n",
      "<class '__main__.Pet'>\n"
     ]
    }
   ],
   "source": [
    "print(myPet)\n",
    "print(type(myPet))"
   ]
  },
  {
   "cell_type": "code",
   "execution_count": 54,
   "metadata": {},
   "outputs": [],
   "source": [
    "class Pet1():\n",
    "    def __init__(self, height, name):\n",
    "        self.height = height\n",
    "        self.name = name\n",
    "    \n",
    "    def __str__(self):\n",
    "        return '{} height is : {} from __str__'.format(self.name, self.height)\n",
    "    \n",
    "    def __repr__(self):\n",
    "        return 1\n",
    "        "
   ]
  },
  {
   "cell_type": "code",
   "execution_count": 55,
   "metadata": {},
   "outputs": [],
   "source": [
    "my_second_pet = Pet1(35, \"Tom\")"
   ]
  },
  {
   "cell_type": "code",
   "execution_count": 56,
   "metadata": {},
   "outputs": [
    {
     "name": "stdout",
     "output_type": "stream",
     "text": [
      "Tom height is : 35 from __str__\n"
     ]
    }
   ],
   "source": [
    "print(my_second_pet)"
   ]
  },
  {
   "cell_type": "code",
   "execution_count": 57,
   "metadata": {},
   "outputs": [
    {
     "name": "stdout",
     "output_type": "stream",
     "text": [
      "Tom height is : 35 from __str__\n",
      "1\n"
     ]
    }
   ],
   "source": [
    "print(my_second_pet.__str__())\n",
    "print(my_second_pet.__repr__())"
   ]
  },
  {
   "cell_type": "code",
   "execution_count": 58,
   "metadata": {},
   "outputs": [
    {
     "name": "stdout",
     "output_type": "stream",
     "text": [
      "<class 'str'>\n",
      "<class 'int'>\n"
     ]
    }
   ],
   "source": [
    "print(type(my_second_pet.__str__()))\n",
    "print(type(my_second_pet.__repr__()))"
   ]
  },
  {
   "cell_type": "code",
   "execution_count": 59,
   "metadata": {},
   "outputs": [
    {
     "data": {
      "text/plain": [
       "True"
      ]
     },
     "execution_count": 59,
     "metadata": {},
     "output_type": "execute_result"
    }
   ],
   "source": [
    "# Static Methods\n",
    "class Pet():\n",
    "    def __init__(self, height):\n",
    "        self.height = height\n",
    "    is_human = False\n",
    "    owner = 'Michael Smith'\n",
    "    \n",
    "    @staticmethod\n",
    "    def owned_by_smith_family():\n",
    "        return 'Smith' in Pet.owner\n",
    "nibbles = Pet(100)\n",
    "nibbles.owned_by_smith_family()"
   ]
  },
  {
   "cell_type": "code",
   "execution_count": 60,
   "metadata": {},
   "outputs": [],
   "source": [
    "# Class Methods\n",
    "class Australian():\n",
    "    is_human = True\n",
    "    enjoys_sport = True\n",
    "    \n",
    "    @classmethod\n",
    "    def is_sporty_human(cls):\n",
    "        return cls.is_human and cls.enjoys_sport"
   ]
  },
  {
   "cell_type": "code",
   "execution_count": 61,
   "metadata": {},
   "outputs": [
    {
     "data": {
      "text/plain": [
       "True"
      ]
     },
     "execution_count": 61,
     "metadata": {},
     "output_type": "execute_result"
    }
   ],
   "source": [
    "Australian.is_sporty_human()"
   ]
  },
  {
   "cell_type": "code",
   "execution_count": 62,
   "metadata": {},
   "outputs": [
    {
     "data": {
      "text/plain": [
       "True"
      ]
     },
     "execution_count": 62,
     "metadata": {},
     "output_type": "execute_result"
    }
   ],
   "source": [
    "aussie = Australian()\n",
    "aussie.is_sporty_human()"
   ]
  },
  {
   "cell_type": "code",
   "execution_count": 67,
   "metadata": {},
   "outputs": [],
   "source": [
    "class Country():\n",
    "    def __init__(self, name='Unspecified', population=None, size_kmsq=None):\n",
    "        self.name = name\n",
    "        self.population = population\n",
    "        self.size_kmsq = size_kmsq\n",
    "    \n",
    "    @classmethod\n",
    "    def create_with_msq(cls, name, population, size_msq):\n",
    "        size_kmsq = size_msq / 0.621371 ** 2\n",
    "        return cls(name, population, size_kmsq)"
   ]
  },
  {
   "cell_type": "code",
   "execution_count": 68,
   "metadata": {},
   "outputs": [
    {
     "data": {
      "text/plain": [
       "1968392.1818017708"
      ]
     },
     "execution_count": 68,
     "metadata": {},
     "output_type": "execute_result"
    }
   ],
   "source": [
    "mexico = Country.create_with_msq('Mexico', 150e6, 760000)\n",
    "mexico.size_kmsq"
   ]
  },
  {
   "cell_type": "code",
   "execution_count": 70,
   "metadata": {},
   "outputs": [],
   "source": [
    "import random\n",
    "class Pet():\n",
    "    def __init__(self, height):\n",
    "        self.height = height        \n",
    "    is_human = False\n",
    "    owner = 'Michael Smith'\n",
    "    \n",
    "    @classmethod\n",
    "    def owned_by_smith_family(cls):\n",
    "        return 'Smith' in cls.owner\n",
    "    \n",
    "    @classmethod\n",
    "    def create_random_height_pet(cls):\n",
    "        height = random.randrange(0, 100)\n",
    "        return cls(height)"
   ]
  },
  {
   "cell_type": "code",
   "execution_count": 79,
   "metadata": {},
   "outputs": [
    {
     "name": "stdout",
     "output_type": "stream",
     "text": [
      "26\n",
      "71\n",
      "10\n",
      "63\n",
      "28\n"
     ]
    }
   ],
   "source": [
    "for i in range(5):\n",
    "    pet = Pet.create_random_height_pet()\n",
    "    print(pet.height)"
   ]
  },
  {
   "cell_type": "markdown",
   "metadata": {},
   "source": [
    "#### Property Decorator"
   ]
  },
  {
   "cell_type": "code",
   "execution_count": 84,
   "metadata": {},
   "outputs": [],
   "source": [
    "class Temperature():\n",
    "    def __init__(self, celsius):\n",
    "        self.celsius = celsius\n",
    "    \n",
    "    def fahrenheit(self):\n",
    "        return self.celsius * 9 / 5 + 32"
   ]
  },
  {
   "cell_type": "code",
   "execution_count": 85,
   "metadata": {},
   "outputs": [],
   "source": [
    "f1 = Temperature(39)"
   ]
  },
  {
   "cell_type": "code",
   "execution_count": 88,
   "metadata": {},
   "outputs": [
    {
     "data": {
      "text/plain": [
       "102.2"
      ]
     },
     "execution_count": 88,
     "metadata": {},
     "output_type": "execute_result"
    }
   ],
   "source": [
    "# Without Property Decorator\n",
    "f1.fahrenheit()"
   ]
  },
  {
   "cell_type": "code",
   "execution_count": 89,
   "metadata": {},
   "outputs": [],
   "source": [
    "class Temperature():\n",
    "    def __init__(self, celsius):\n",
    "        self.celsius = celsius\n",
    "    @property\n",
    "    def fahrenheit(self):\n",
    "        return self.celsius * 9 / 5 + 32"
   ]
  },
  {
   "cell_type": "code",
   "execution_count": 96,
   "metadata": {},
   "outputs": [],
   "source": [
    "f11 = Temperature(36.8)"
   ]
  },
  {
   "cell_type": "code",
   "execution_count": 97,
   "metadata": {},
   "outputs": [
    {
     "data": {
      "text/plain": [
       "98.24"
      ]
     },
     "execution_count": 97,
     "metadata": {},
     "output_type": "execute_result"
    }
   ],
   "source": [
    "f11.fahrenheit"
   ]
  },
  {
   "cell_type": "markdown",
   "metadata": {},
   "source": [
    "#### The Full Name Property"
   ]
  },
  {
   "cell_type": "code",
   "execution_count": 99,
   "metadata": {},
   "outputs": [],
   "source": [
    "class Temperature():\n",
    "    def __init__(self, celsius):\n",
    "        self.celsius = celsius\n",
    "    @property\n",
    "    def fahrenheit(self):\n",
    "        return self.celsius * 9 / 5 + 32"
   ]
  },
  {
   "cell_type": "code",
   "execution_count": 100,
   "metadata": {},
   "outputs": [],
   "source": [
    "# We can't able to change the property value for the property methods\n",
    "f21 = Temperature(35)"
   ]
  },
  {
   "cell_type": "code",
   "execution_count": 101,
   "metadata": {},
   "outputs": [
    {
     "data": {
      "text/plain": [
       "95.0"
      ]
     },
     "execution_count": 101,
     "metadata": {},
     "output_type": "execute_result"
    }
   ],
   "source": [
    "f21.fahrenheit"
   ]
  },
  {
   "cell_type": "code",
   "execution_count": 104,
   "metadata": {},
   "outputs": [],
   "source": [
    "try:\n",
    "    f21.fahrenheit = 35 # If We Execute this Statement We will get an Error\n",
    "except Exception:pass"
   ]
  },
  {
   "cell_type": "markdown",
   "metadata": {},
   "source": [
    "#### Setter Method"
   ]
  },
  {
   "cell_type": "code",
   "execution_count": 111,
   "metadata": {},
   "outputs": [],
   "source": [
    "class Person():\n",
    "    def __init__(self, first_name, last_name):\n",
    "        self.first_name = first_name\n",
    "        self.last_name = last_name\n",
    "        \n",
    "    @property\n",
    "    def full_name(self):\n",
    "        return '%s %s' % (self.first_name, self.last_name)\n",
    "    \n",
    "    @full_name.setter\n",
    "    def full_name(self, name):\n",
    "        first, last = name.split(' ')\n",
    "        self.first_name = first\n",
    "        self.last_name = last"
   ]
  },
  {
   "cell_type": "code",
   "execution_count": 112,
   "metadata": {},
   "outputs": [
    {
     "data": {
      "text/plain": [
       "'Schmidt'"
      ]
     },
     "execution_count": 112,
     "metadata": {},
     "output_type": "execute_result"
    }
   ],
   "source": [
    "customer = Person('Mary', 'Lou')\n",
    "customer.full_name = 'Mary Schmidt'\n",
    "customer.last_name"
   ]
  },
  {
   "cell_type": "code",
   "execution_count": 113,
   "metadata": {},
   "outputs": [],
   "source": [
    "class Temperature():\n",
    "    def __init__(self, celcius):\n",
    "        self.celcius = celcius    \n",
    "    @property\n",
    "    def fahrenheit(self):\n",
    "        return self.celcius * 9 / 5 + 32\n",
    "    \n",
    "    @fahrenheit.setter\n",
    "    def fahrenheit(self, value):\n",
    "        self.celsius = (value - 32) * 5 / 9"
   ]
  },
  {
   "cell_type": "code",
   "execution_count": 114,
   "metadata": {},
   "outputs": [
    {
     "data": {
      "text/plain": [
       "41.0"
      ]
     },
     "execution_count": 114,
     "metadata": {},
     "output_type": "execute_result"
    }
   ],
   "source": [
    "temp = Temperature(5)\n",
    "temp.fahrenheit"
   ]
  },
  {
   "cell_type": "code",
   "execution_count": 115,
   "metadata": {},
   "outputs": [
    {
     "data": {
      "text/plain": [
       "0.0"
      ]
     },
     "execution_count": 115,
     "metadata": {},
     "output_type": "execute_result"
    }
   ],
   "source": [
    "temp.fahrenheit = 32\n",
    "temp.celsius"
   ]
  },
  {
   "cell_type": "code",
   "execution_count": 116,
   "metadata": {},
   "outputs": [],
   "source": [
    "class Temperature():\n",
    "    def __init__(self, celcius):\n",
    "        self.celcius = celcius    \n",
    "    @property\n",
    "    def fahrenheit(self):\n",
    "        return self.celcius * 9 / 5 + 32\n",
    "    \n",
    "    @fahrenheit.setter\n",
    "    def fahrenheit(self, value):\n",
    "        if value < -460:\n",
    "            raise ValueError('Temperatures less than -460F are not possible')\n",
    "        self.celsius = (value - 32) * 5 / 9"
   ]
  },
  {
   "cell_type": "code",
   "execution_count": 118,
   "metadata": {},
   "outputs": [],
   "source": [
    "temp = Temperature(5)\n",
    "temp.fahrenheit = 500"
   ]
  },
  {
   "cell_type": "markdown",
   "metadata": {},
   "source": [
    "#### Inheritance"
   ]
  },
  {
   "cell_type": "code",
   "execution_count": 121,
   "metadata": {},
   "outputs": [],
   "source": [
    "# Single Level Inheritance\n",
    "\n",
    "class Person():\n",
    "    def __init__(self, first_name, last_name):\n",
    "        self.first_name = first_name\n",
    "        self.last_name = last_name\n",
    "    def temp(self):\n",
    "        print('This is Awesome')\n",
    "\n",
    "class Baby(Person):\n",
    "    def speak(self):\n",
    "        print('Blah blah blah')\n",
    "\n",
    "class Adult(Person):\n",
    "    def speak(self):\n",
    "        print('Hello, my name is %s' % self.first_name)\n",
    "    \n",
    "    def temp(self):\n",
    "        print('This is Excellent')"
   ]
  },
  {
   "cell_type": "code",
   "execution_count": 123,
   "metadata": {},
   "outputs": [
    {
     "name": "stdout",
     "output_type": "stream",
     "text": [
      "Blah blah blah\n",
      "Hello, my name is Thomas\n",
      "This is Excellent\n"
     ]
    }
   ],
   "source": [
    "jess = Baby('Jessie', 'Mcdonald')\n",
    "tom = Adult('Thomas', 'Smith')\n",
    "jess.speak()\n",
    "tom.speak()\n",
    "tom.temp()"
   ]
  },
  {
   "cell_type": "markdown",
   "metadata": {},
   "source": [
    "#### Overriding Methods Using super()"
   ]
  },
  {
   "cell_type": "code",
   "execution_count": 124,
   "metadata": {},
   "outputs": [],
   "source": [
    "import datetime\n",
    "\n",
    "class Diary():\n",
    "    def __init__(self, birthday, christmas):\n",
    "        self.birthday = birthday\n",
    "        self.christmas = christmas  \n",
    "        \n",
    "    @staticmethod\n",
    "    def format_date(date):\n",
    "        return date.strftime('%d-%b-%y')    \n",
    "    def show_birthday(self):\n",
    "        return self.format_date(self.birthday)\n",
    "    def show_christmas(self):\n",
    "        return self.format_date(self.christmas)"
   ]
  },
  {
   "cell_type": "code",
   "execution_count": 126,
   "metadata": {},
   "outputs": [],
   "source": [
    "class CustomDiary(Diary):\n",
    "    \n",
    "    def __init__(self, birthday, christmas, date_format):\n",
    "        self.date_format = date_format\n",
    "        super().__init__(birthday, christmas)\n",
    "        \n",
    "    def format_date(self, date):\n",
    "        return date.strftime(self.date_format)"
   ]
  },
  {
   "cell_type": "code",
   "execution_count": 127,
   "metadata": {},
   "outputs": [
    {
     "name": "stdout",
     "output_type": "stream",
     "text": [
      "01-Jan-2018\n",
      "03/03/2018\n"
     ]
    }
   ],
   "source": [
    "first_diary = CustomDiary(datetime.date(2018,1,1), datetime.date(2018,3,3), '%d-%b-%Y')\n",
    "second_diary = CustomDiary(datetime.date(2018,1,1), datetime.date(2018,3,3), '%d/%m/%Y')\n",
    "print(first_diary.show_birthday())\n",
    "print(second_diary.show_christmas())"
   ]
  },
  {
   "cell_type": "code",
   "execution_count": 129,
   "metadata": {},
   "outputs": [
    {
     "data": {
      "text/plain": [
       "<__main__.Pet at 0x105709ba8>"
      ]
     },
     "execution_count": 129,
     "metadata": {},
     "output_type": "execute_result"
    }
   ],
   "source": [
    "Pet(123)"
   ]
  },
  {
   "cell_type": "code",
   "execution_count": null,
   "metadata": {},
   "outputs": [],
   "source": []
  }
 ],
 "metadata": {
  "kernelspec": {
   "display_name": "Python 3",
   "language": "python",
   "name": "python3"
  },
  "language_info": {
   "codemirror_mode": {
    "name": "ipython",
    "version": 3
   },
   "file_extension": ".py",
   "mimetype": "text/x-python",
   "name": "python",
   "nbconvert_exporter": "python",
   "pygments_lexer": "ipython3",
   "version": "3.7.2"
  }
 },
 "nbformat": 4,
 "nbformat_minor": 2
}
